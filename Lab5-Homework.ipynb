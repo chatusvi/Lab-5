{
 "cells": [
  {
   "cell_type": "code",
   "execution_count": 2,
   "metadata": {},
   "outputs": [
    {
     "output_type": "stream",
     "name": "stdout",
     "text": "4 6\n1 4\n"
    }
   ],
   "source": [
    "\n",
    "class Point():\n",
    "    def __init__(self, x, y):\n",
    "        self.x = x\n",
    "        self.y = y\n",
    "    def add_points(self):\n",
    "        if isinstance(self.y, Point):\n",
    "            op1 = self.x.x + self.y.x\n",
    "            op2 = self.x.y + self.y.y\n",
    "            new_p = Point(op1,op2)\n",
    "            return new_p\n",
    "        elif isinstance(self.y, tuple):\n",
    "            x = self.x.x + self.y[0]\n",
    "            y = self.x.y + self.y[1]\n",
    "            new_p_tu = Point(x,y)\n",
    "            return new_p_tu\n",
    "\n",
    "f_p = Point(1,2)\n",
    "s_p = Point(3,4)\n",
    "poi = Point(f_p, s_p)\n",
    "result = poi.add_points()\n",
    "print(result.x, result.y)\n",
    "tu_1 = (0,2)\n",
    "poi1 = Point(f_p, tu_1)\n",
    "result1 = poi1.add_points()\n",
    "print(result1.x, result1.y)\n"
   ]
  },
  {
   "cell_type": "code",
   "execution_count": 4,
   "metadata": {},
   "outputs": [
    {
     "output_type": "stream",
     "name": "stdout",
     "text": "Network address: [123, 5, 61, 0]\n"
    }
   ],
   "source": [
    "\n",
    "class IP4Address():\n",
    "    def __init__(self, l, s):\n",
    "        self.address = l\n",
    "        self.subbe = s\n",
    "    def getNetwork(self):\n",
    "        if len(self.address) == 4:\n",
    "            self.address[3] = 0\n",
    "            print(\"Network address:\",self.address)\n",
    "        else:\n",
    "            print(\"please enter the proper ip address\")\n",
    "    \n",
    "        \n",
    "ipv4 = IP4Address([123,5,61,0],17)\n",
    "net = ipv4.getNetwork()"
   ]
  },
  {
   "cell_type": "code",
   "execution_count": 12,
   "metadata": {},
   "outputs": [
    {
     "output_type": "stream",
     "name": "stdout",
     "text": "\n    Question-3\n\nGiven Host/network address [10, 1, 1, 24] , crid 27\nNetwork address: [10, 1, 1, 0]\nBroadcast_address:  [10, 1, 1, 31]\nFirst Address [10, 1, 1, 1]\nLast Address [10, 1, 1, 30]\nTotal number of hosts: 134217726\nMask: [255, 255, 255, 224]\n"
    }
   ],
   "source": [
    "print(\"\"\"\n",
    "    Question-3\n",
    "\"\"\")\n",
    "\n",
    "class IP4Address():\n",
    "    def __init__(self,ip, c):\n",
    "        self.cid = c\n",
    "        self.ip = ip\n",
    "    def getNetwork(self):\n",
    "        if len(self.ip) == 4:\n",
    "            host = self.ip[3]\n",
    "            bits_oc = self.cid - 24\n",
    "            subnets = 2**bits_oc\n",
    "            hosts = 2**(8-bits_oc)-2\n",
    "            network_address = 0\n",
    "            max_host_address = 0\n",
    "            for a in range(subnets):\n",
    "                max_host_address = network_address + hosts\n",
    "                if(host < max_host_address):\n",
    "                    self.ip[3] = network_address\n",
    "                    print(\"Network address:\",self.ip, )\n",
    "                    b_add = [i for i in self.ip]\n",
    "                    b_add[3] = max_host_address + 1\n",
    "                    print(\"Broadcast_address: \", b_add)\n",
    "                    f_add = [i for i in self.ip]\n",
    "                    f_add[3] = network_address + 1\n",
    "                    print(\"First Address\", f_add)\n",
    "                    l_add = [i for i in self.ip]\n",
    "                    l_add[3] = max_host_address\n",
    "                    print(\"Last Address\", l_add)\n",
    "                    break\n",
    "                network_address =(hosts+2)*a\n",
    "        else:\n",
    "            print(\"Please enter the vaild ip address\")\n",
    "        num_hosts = (2**self.cid) - 2\n",
    "        print(\"Total number of hosts:\",num_hosts)\n",
    "    def getMask(self):\n",
    "        mask_dict = {\n",
    "            8 : '255.0.0.0',\n",
    "            9 : '255.128.0.0',\n",
    "            10 : '255.192.0.0',\n",
    "            11 : '255.224.0.0',\n",
    "            12 : '255.240.0.0',\n",
    "            13 : '255.248.0.0',\n",
    "            14 : '255.254.0.0',\n",
    "            15 : '255.254.0.0',\n",
    "            16 : '255.255.0.0.',\n",
    "            17: '255.255.128.0',\n",
    "            18 : '255.255.192.0',\n",
    "            19 : '255.255.240.0',\n",
    "            20 : '255.255.240.0',\n",
    "            21 : '255.255.248.0',\n",
    "            22 : '255.255.252.0',\n",
    "            23 : '255.255.254.0',\n",
    "            24 : '255.255.255.0',\n",
    "            25 : '255.255.255.128',\n",
    "            26: '255.255.255.192',\n",
    "            27  : '255.255.255.224',\n",
    "            28 : '255.255.255.240',\n",
    "            29 : '255.255.255.248',\n",
    "            30 : '255.255.255.252',\n",
    "            32 : '255.255.255.255'\n",
    "        }\n",
    "        if ((self.cid >= 8) and (self.cid <=32) ) :\n",
    "            arr = mask_dict.get(self.cid).split('.')\n",
    "            arr1 = [int(arr[i]) for i in range(len(arr))]\n",
    "            print(\"Mask:\",arr1)\n",
    "ip = list()\n",
    "for i in range(4):\n",
    "    x = int(input())\n",
    "    ip.append(x)\n",
    "crid = int(input(\"enter the subnet number\"))\n",
    "print(\"Given Host/network address\", ip,\", crid\", crid)\n",
    "x = IP4Address(ip, crid)\n",
    "x.getNetwork()\n",
    "x.getMask()\n",
    "        "
   ]
  },
  {
   "cell_type": "code",
   "execution_count": null,
   "metadata": {},
   "outputs": [],
   "source": []
  },
  {
   "cell_type": "code",
   "execution_count": null,
   "metadata": {},
   "outputs": [],
   "source": []
  }
 ],
 "metadata": {
  "language_info": {
   "codemirror_mode": {
    "name": "ipython",
    "version": 3
   },
   "file_extension": ".py",
   "mimetype": "text/x-python",
   "name": "python",
   "nbconvert_exporter": "python",
   "pygments_lexer": "ipython3",
   "version": "3.8.1-final"
  },
  "orig_nbformat": 2,
  "kernelspec": {
   "name": "python38164bit8081a11a70df49239e80390d03ac8399",
   "display_name": "Python 3.8.1 64-bit"
  }
 },
 "nbformat": 4,
 "nbformat_minor": 2
}